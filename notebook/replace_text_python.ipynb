{
 "cells": [
  {
   "cell_type": "markdown",
   "metadata": {},
   "source": [
    "# An small experiment with \"Replace text in Rython\" \n",
    "\n",
    "Use case 1: replace \"ab\" by \"\"\n",
    "\n",
    "- ```re.sub```\n",
    "- ```pattern = re.compile``` then ```pattern.sub```\n",
    "- ```str.replace```\n",
    "\n",
    "**Conclusion: ```str.replace``` work best**\n",
    "\n",
    "==========\n",
    "\n",
    "Use case 2\n",
    ": replace \"a\" and \"b\" by \"\"\n",
    "\n",
    "- ```re.sub```\n",
    "- ```pattern = re.compile``` then ```pattern.sub```\n",
    "- ```str.replace```\n",
    "\n",
    "**Conclusion: ```str.replace``` work best**\n",
    "\n"
   ]
  },
  {
   "cell_type": "code",
   "execution_count": 36,
   "metadata": {},
   "outputs": [],
   "source": [
    "import re\n",
    "import random\n",
    "import string\n",
    "import datetime\n",
    "\n",
    "random.seed(1)"
   ]
  },
  {
   "cell_type": "markdown",
   "metadata": {},
   "source": [
    "## Generate 1 million strings for this exp"
   ]
  },
  {
   "cell_type": "code",
   "execution_count": 175,
   "metadata": {},
   "outputs": [],
   "source": [
    "def random_string(string_length=8):\n",
    "    letters = string.ascii_lowercase\n",
    "    return \"\".join(random.choice(letters) for i in range(string_length))"
   ]
  },
  {
   "cell_type": "code",
   "execution_count": 177,
   "metadata": {},
   "outputs": [],
   "source": [
    "def gen_str_list(number_of_str):\n",
    "    return [random_string() for _ in range(number_of_str)]\n",
    "        \n",
    "one_million_str = gen_str_list(1000000)"
   ]
  },
  {
   "cell_type": "code",
   "execution_count": 186,
   "metadata": {},
   "outputs": [
    {
     "name": "stdout",
     "output_type": "stream",
     "text": [
      "10448\n"
     ]
    }
   ],
   "source": [
    "# how many \"ab\" in one_one_million_str\n",
    "print(sum([\"ab\" in s for s in one_million_str]))"
   ]
  },
  {
   "cell_type": "markdown",
   "metadata": {},
   "source": [
    "# USE CASE 1"
   ]
  },
  {
   "cell_type": "markdown",
   "metadata": {},
   "source": [
    "### Experiments 1: Calc time spent on substitute text in a large set of str using ```re.sub```"
   ]
  },
  {
   "cell_type": "code",
   "execution_count": 233,
   "metadata": {},
   "outputs": [
    {
     "data": {
      "text/plain": [
       "'bda'"
      ]
     },
     "execution_count": 233,
     "metadata": {},
     "output_type": "execute_result"
    }
   ],
   "source": [
    "# behavior checking\n",
    "sample_string = \"abda\"\n",
    "re.sub(\"a\",  \"\", sample_string, count=1)"
   ]
  },
  {
   "cell_type": "code",
   "execution_count": 227,
   "metadata": {},
   "outputs": [],
   "source": [
    "def using_re_sub_case_1(str_list):\n",
    "    output_list = []\n",
    "    for s in str_list:\n",
    "        output_list.append(re.sub(\"ab\", \"\", s, count=1))\n",
    "    return output_list"
   ]
  },
  {
   "cell_type": "code",
   "execution_count": 228,
   "metadata": {},
   "outputs": [],
   "source": [
    "def using_re_sub_case_2(str_list):\n",
    "    return [re.sub(\"ab\", \"\", s, count=1) for s in str_list]"
   ]
  },
  {
   "cell_type": "code",
   "execution_count": 229,
   "metadata": {},
   "outputs": [],
   "source": [
    "def using_re_sub_case_3(str_list):\n",
    "    return list(map(lambda s:re.sub(\"ab\", \"\", s, count=1), str_list))"
   ]
  },
  {
   "cell_type": "code",
   "execution_count": 243,
   "metadata": {},
   "outputs": [
    {
     "name": "stdout",
     "output_type": "stream",
     "text": [
      "554 ms ± 19.9 ms per loop (mean ± std. dev. of 7 runs, 1 loop each)\n"
     ]
    }
   ],
   "source": [
    "%timeit using_re_sub_case_1(one_million_str_list)"
   ]
  },
  {
   "cell_type": "code",
   "execution_count": 244,
   "metadata": {},
   "outputs": [
    {
     "name": "stdout",
     "output_type": "stream",
     "text": [
      "513 ms ± 5.14 ms per loop (mean ± std. dev. of 7 runs, 1 loop each)\n"
     ]
    }
   ],
   "source": [
    "%timeit using_re_sub_case_2(one_million_str_list)\n"
   ]
  },
  {
   "cell_type": "code",
   "execution_count": 245,
   "metadata": {},
   "outputs": [
    {
     "name": "stdout",
     "output_type": "stream",
     "text": [
      "557 ms ± 10.1 ms per loop (mean ± std. dev. of 7 runs, 1 loop each)\n"
     ]
    }
   ],
   "source": [
    "%timeit using_re_sub_case_3(one_million_str_list)\n"
   ]
  },
  {
   "cell_type": "code",
   "execution_count": 246,
   "metadata": {},
   "outputs": [],
   "source": [
    "assert using_re_sub_case_1(one_million_str) == using_re_sub_case_2(one_million_str) == using_re_sub_case_3(one_million_str)"
   ]
  },
  {
   "cell_type": "code",
   "execution_count": null,
   "metadata": {},
   "outputs": [],
   "source": []
  },
  {
   "cell_type": "markdown",
   "metadata": {},
   "source": [
    "### Experiments 2: Calc time spent on substitute text in a large set of str using ```str.replace```"
   ]
  },
  {
   "cell_type": "code",
   "execution_count": 251,
   "metadata": {},
   "outputs": [
    {
     "data": {
      "text/plain": [
       "'bda'"
      ]
     },
     "execution_count": 251,
     "metadata": {},
     "output_type": "execute_result"
    }
   ],
   "source": [
    "# behavior checking\n",
    "sample_string = \"abda\"\n",
    "sample_string.replace(\"a\", \"\", 1)"
   ]
  },
  {
   "cell_type": "code",
   "execution_count": 235,
   "metadata": {},
   "outputs": [],
   "source": [
    "def using_str_replace_case_1(str_list):\n",
    "    output_list = []\n",
    "    for s in str_list:\n",
    "        output_list.append(s.replace(\"ab\", \"\", 1))\n",
    "    return output_list"
   ]
  },
  {
   "cell_type": "code",
   "execution_count": 236,
   "metadata": {},
   "outputs": [],
   "source": [
    "def using_str_replace_case_2(str_list):\n",
    "    return [s.replace(\"ab\", \"\", 1) for s in str_list]"
   ]
  },
  {
   "cell_type": "code",
   "execution_count": 237,
   "metadata": {},
   "outputs": [
    {
     "name": "stdout",
     "output_type": "stream",
     "text": [
      "149 ms ± 2 ms per loop (mean ± std. dev. of 7 runs, 10 loops each)\n"
     ]
    }
   ],
   "source": [
    "%timeit using_str_replace_case_1(one_million_str_list)"
   ]
  },
  {
   "cell_type": "code",
   "execution_count": 238,
   "metadata": {},
   "outputs": [
    {
     "name": "stdout",
     "output_type": "stream",
     "text": [
      "119 ms ± 1.37 ms per loop (mean ± std. dev. of 7 runs, 10 loops each)\n"
     ]
    }
   ],
   "source": [
    "%timeit using_str_replace_case_2(one_million_str_list)"
   ]
  },
  {
   "cell_type": "code",
   "execution_count": 247,
   "metadata": {},
   "outputs": [],
   "source": [
    "assert using_str_replace_case_1(one_million_str) == using_str_replace_case_2(one_million_str)"
   ]
  },
  {
   "cell_type": "code",
   "execution_count": null,
   "metadata": {},
   "outputs": [],
   "source": []
  },
  {
   "cell_type": "markdown",
   "metadata": {},
   "source": [
    "### Experiments 3: Calc time spent on substitute text in a large set of str using ```compile and sub``` (COMPILE EVERYTIME)"
   ]
  },
  {
   "cell_type": "code",
   "execution_count": 254,
   "metadata": {},
   "outputs": [
    {
     "data": {
      "text/plain": [
       "'bda'"
      ]
     },
     "execution_count": 254,
     "metadata": {},
     "output_type": "execute_result"
    }
   ],
   "source": [
    "# behavior checking\n",
    "sample_string = \"abda\"\n",
    "pattern = re.compile(r\"a\")\n",
    "pattern.sub(\"\", sample_string, count=1)"
   ]
  },
  {
   "cell_type": "code",
   "execution_count": 261,
   "metadata": {},
   "outputs": [],
   "source": [
    "def using_re_compile_and_sub_case_1(str_list):\n",
    "    output_list = []\n",
    "    pattern = re.compile(r\"ab\")\n",
    "    for s in str_list:\n",
    "        output_list.append(pattern.sub(\"\", s, count=1))\n",
    "    return output_list"
   ]
  },
  {
   "cell_type": "code",
   "execution_count": 267,
   "metadata": {},
   "outputs": [
    {
     "name": "stdout",
     "output_type": "stream",
     "text": [
      "309 ms ± 4.02 ms per loop (mean ± std. dev. of 7 runs, 1 loop each)\n"
     ]
    }
   ],
   "source": [
    "%timeit using_re_compile_and_sub_case_1(one_million_str)"
   ]
  },
  {
   "cell_type": "code",
   "execution_count": null,
   "metadata": {},
   "outputs": [],
   "source": []
  },
  {
   "cell_type": "code",
   "execution_count": null,
   "metadata": {},
   "outputs": [],
   "source": []
  },
  {
   "cell_type": "code",
   "execution_count": null,
   "metadata": {},
   "outputs": [],
   "source": []
  },
  {
   "cell_type": "code",
   "execution_count": null,
   "metadata": {},
   "outputs": [],
   "source": []
  },
  {
   "cell_type": "markdown",
   "metadata": {},
   "source": [
    "### Experiments 3: Calc time spent on substitute text in a large set of str using ```compile and sub``` (COMPILE EVERYTIME)"
   ]
  },
  {
   "cell_type": "code",
   "execution_count": 254,
   "metadata": {},
   "outputs": [
    {
     "data": {
      "text/plain": [
       "'bda'"
      ]
     },
     "execution_count": 254,
     "metadata": {},
     "output_type": "execute_result"
    }
   ],
   "source": [
    "# behavior checking\n",
    "sample_string = \"abda\"\n",
    "pattern = re.compile(r\"a\")\n",
    "pattern.sub(\"\", sample_string, count=1)"
   ]
  },
  {
   "cell_type": "code",
   "execution_count": 261,
   "metadata": {},
   "outputs": [],
   "source": [
    "def using_re_compile_and_sub_case_1(str_list):\n",
    "    output_list = []\n",
    "    pattern = re.compile(r\"ab\")\n",
    "    for s in str_list:\n",
    "        output_list.append(pattern.sub(\"\", s, count=1))\n",
    "    return output_list"
   ]
  },
  {
   "cell_type": "code",
   "execution_count": 267,
   "metadata": {},
   "outputs": [
    {
     "name": "stdout",
     "output_type": "stream",
     "text": [
      "309 ms ± 4.02 ms per loop (mean ± std. dev. of 7 runs, 1 loop each)\n"
     ]
    }
   ],
   "source": [
    "%timeit using_re_compile_and_sub_case_1(one_million_str)"
   ]
  },
  {
   "cell_type": "code",
   "execution_count": null,
   "metadata": {},
   "outputs": [],
   "source": []
  },
  {
   "cell_type": "code",
   "execution_count": null,
   "metadata": {},
   "outputs": [],
   "source": []
  },
  {
   "cell_type": "markdown",
   "metadata": {},
   "source": [
    "### Experiments 4: Calc time spent on substitute text in a large set of str using ```compile and sub``` (COMPILE ONCE)"
   ]
  },
  {
   "cell_type": "code",
   "execution_count": 272,
   "metadata": {},
   "outputs": [],
   "source": [
    "pattern = re.compile(r\"ab\")\n",
    "def using_re_compile_and_sub_case_2(str_list):\n",
    "    output_list = []\n",
    "    for s in str_list:\n",
    "        output_list.append(pattern.sub(\"\", s, count=1))\n",
    "    return output_list"
   ]
  },
  {
   "cell_type": "code",
   "execution_count": 273,
   "metadata": {},
   "outputs": [
    {
     "name": "stdout",
     "output_type": "stream",
     "text": [
      "315 ms ± 2.51 ms per loop (mean ± std. dev. of 7 runs, 1 loop each)\n"
     ]
    }
   ],
   "source": [
    "%timeit using_re_compile_and_sub_case_2(one_million_str)"
   ]
  },
  {
   "cell_type": "code",
   "execution_count": null,
   "metadata": {},
   "outputs": [],
   "source": []
  },
  {
   "cell_type": "code",
   "execution_count": null,
   "metadata": {},
   "outputs": [],
   "source": []
  },
  {
   "cell_type": "code",
   "execution_count": null,
   "metadata": {},
   "outputs": [],
   "source": []
  },
  {
   "cell_type": "markdown",
   "metadata": {},
   "source": [
    "# USE CASE 2"
   ]
  },
  {
   "cell_type": "markdown",
   "metadata": {},
   "source": [
    "### Experiments 1: Calc time spent on substitute text in a large set of str using ```re.sub```"
   ]
  },
  {
   "cell_type": "code",
   "execution_count": 274,
   "metadata": {},
   "outputs": [
    {
     "data": {
      "text/plain": [
       "'d'"
      ]
     },
     "execution_count": 274,
     "metadata": {},
     "output_type": "execute_result"
    }
   ],
   "source": [
    "# behavior checking\n",
    "sample_string = \"abda\"\n",
    "re.sub(r\"[ab]\",  \"\", sample_string)"
   ]
  },
  {
   "cell_type": "code",
   "execution_count": 275,
   "metadata": {},
   "outputs": [],
   "source": [
    "def using_re_sub_case_1(str_list):\n",
    "    output_list = []\n",
    "    for s in str_list:\n",
    "        output_list.append(re.sub(r\"[ab]\", \"\", s))\n",
    "    return output_list"
   ]
  },
  {
   "cell_type": "code",
   "execution_count": 276,
   "metadata": {},
   "outputs": [],
   "source": [
    "def using_re_sub_case_2(str_list):\n",
    "    return [re.sub(r\"[ab]\", \"\", s) for s in str_list]"
   ]
  },
  {
   "cell_type": "code",
   "execution_count": 277,
   "metadata": {},
   "outputs": [],
   "source": [
    "def using_re_sub_case_3(str_list):\n",
    "    return list(map(lambda s:re.sub(r\"[ab]\", \"\", s), str_list))"
   ]
  },
  {
   "cell_type": "code",
   "execution_count": 278,
   "metadata": {},
   "outputs": [
    {
     "name": "stdout",
     "output_type": "stream",
     "text": [
      "702 ms ± 8.88 ms per loop (mean ± std. dev. of 7 runs, 1 loop each)\n"
     ]
    }
   ],
   "source": [
    "%timeit using_re_sub_case_1(one_million_str_list)"
   ]
  },
  {
   "cell_type": "code",
   "execution_count": 279,
   "metadata": {},
   "outputs": [
    {
     "name": "stdout",
     "output_type": "stream",
     "text": [
      "656 ms ± 4.89 ms per loop (mean ± std. dev. of 7 runs, 1 loop each)\n"
     ]
    }
   ],
   "source": [
    "%timeit using_re_sub_case_2(one_million_str_list)\n"
   ]
  },
  {
   "cell_type": "code",
   "execution_count": 280,
   "metadata": {},
   "outputs": [
    {
     "name": "stdout",
     "output_type": "stream",
     "text": [
      "712 ms ± 7.99 ms per loop (mean ± std. dev. of 7 runs, 1 loop each)\n"
     ]
    }
   ],
   "source": [
    "%timeit using_re_sub_case_3(one_million_str_list)\n"
   ]
  },
  {
   "cell_type": "code",
   "execution_count": 282,
   "metadata": {},
   "outputs": [],
   "source": [
    "assert using_re_sub_case_1(one_million_str) == using_re_sub_case_2(one_million_str) == using_re_sub_case_3(one_million_str)"
   ]
  },
  {
   "cell_type": "code",
   "execution_count": null,
   "metadata": {},
   "outputs": [],
   "source": []
  },
  {
   "cell_type": "markdown",
   "metadata": {},
   "source": [
    "### Experiments 2: Calc time spent on substitute text in a large set of str using ```str.replace```"
   ]
  },
  {
   "cell_type": "code",
   "execution_count": 283,
   "metadata": {},
   "outputs": [
    {
     "data": {
      "text/plain": [
       "'d'"
      ]
     },
     "execution_count": 283,
     "metadata": {},
     "output_type": "execute_result"
    }
   ],
   "source": [
    "# behavior checking\n",
    "sample_string = \"abda\"\n",
    "sample_string.replace(\"a\", \"\").replace(\"b\", \"\")"
   ]
  },
  {
   "cell_type": "code",
   "execution_count": 284,
   "metadata": {},
   "outputs": [],
   "source": [
    "def using_str_replace_case_1(str_list):\n",
    "    output_list = []\n",
    "    for s in str_list:\n",
    "        output_list.append(s.replace(\"a\", \"\").replace(\"b\", \"\"))\n",
    "    return output_list"
   ]
  },
  {
   "cell_type": "code",
   "execution_count": 285,
   "metadata": {},
   "outputs": [],
   "source": [
    "def using_str_replace_case_2(str_list):\n",
    "    return [s.replace(\"a\", \"\").replace(\"b\", \"\") for s in str_list]"
   ]
  },
  {
   "cell_type": "code",
   "execution_count": 286,
   "metadata": {},
   "outputs": [
    {
     "name": "stdout",
     "output_type": "stream",
     "text": [
      "264 ms ± 2.82 ms per loop (mean ± std. dev. of 7 runs, 1 loop each)\n"
     ]
    }
   ],
   "source": [
    "%timeit using_str_replace_case_1(one_million_str_list)"
   ]
  },
  {
   "cell_type": "code",
   "execution_count": 287,
   "metadata": {},
   "outputs": [
    {
     "name": "stdout",
     "output_type": "stream",
     "text": [
      "230 ms ± 2.51 ms per loop (mean ± std. dev. of 7 runs, 1 loop each)\n"
     ]
    }
   ],
   "source": [
    "%timeit using_str_replace_case_2(one_million_str_list)"
   ]
  },
  {
   "cell_type": "code",
   "execution_count": 288,
   "metadata": {},
   "outputs": [],
   "source": [
    "assert using_str_replace_case_1(one_million_str) == using_str_replace_case_2(one_million_str)"
   ]
  },
  {
   "cell_type": "code",
   "execution_count": null,
   "metadata": {},
   "outputs": [],
   "source": []
  },
  {
   "cell_type": "markdown",
   "metadata": {},
   "source": [
    "### Experiments 3: using ```compile and sub``` (COMPILE EVERYTIME)"
   ]
  },
  {
   "cell_type": "code",
   "execution_count": 290,
   "metadata": {},
   "outputs": [
    {
     "data": {
      "text/plain": [
       "'d'"
      ]
     },
     "execution_count": 290,
     "metadata": {},
     "output_type": "execute_result"
    }
   ],
   "source": [
    "# behavior checking\n",
    "sample_string = \"abda\"\n",
    "pattern = re.compile(r\"[ab]\")\n",
    "pattern.sub(\"\", sample_string)"
   ]
  },
  {
   "cell_type": "code",
   "execution_count": 291,
   "metadata": {},
   "outputs": [],
   "source": [
    "def using_re_compile_and_sub_case_1(str_list):\n",
    "    output_list = []\n",
    "    pattern = re.compile(r\"[ab]\")\n",
    "    for s in str_list:\n",
    "        output_list.append(pattern.sub(\"\", s))\n",
    "    return output_list"
   ]
  },
  {
   "cell_type": "code",
   "execution_count": 292,
   "metadata": {},
   "outputs": [
    {
     "name": "stdout",
     "output_type": "stream",
     "text": [
      "360 ms ± 2.73 ms per loop (mean ± std. dev. of 7 runs, 1 loop each)\n"
     ]
    }
   ],
   "source": [
    "%timeit using_re_compile_and_sub_case_1(one_million_str)"
   ]
  },
  {
   "cell_type": "code",
   "execution_count": null,
   "metadata": {},
   "outputs": [],
   "source": []
  },
  {
   "cell_type": "markdown",
   "metadata": {},
   "source": [
    "### Experiments 4: using ```compile and sub``` (COMPILE ONCE)"
   ]
  },
  {
   "cell_type": "code",
   "execution_count": 293,
   "metadata": {},
   "outputs": [],
   "source": [
    "pattern = re.compile(r\"[ab]\")\n",
    "def using_re_compile_and_sub_case_2(str_list):\n",
    "    output_list = []\n",
    "    for s in str_list:\n",
    "        output_list.append(pattern.sub(\"\", s))\n",
    "    return output_list"
   ]
  },
  {
   "cell_type": "code",
   "execution_count": 294,
   "metadata": {},
   "outputs": [
    {
     "name": "stdout",
     "output_type": "stream",
     "text": [
      "369 ms ± 1.6 ms per loop (mean ± std. dev. of 7 runs, 1 loop each)\n"
     ]
    }
   ],
   "source": [
    "%timeit using_re_compile_and_sub_case_2(one_million_str)"
   ]
  },
  {
   "cell_type": "markdown",
   "metadata": {},
   "source": [
    "# USE CASE 2"
   ]
  },
  {
   "cell_type": "markdown",
   "metadata": {},
   "source": [
    "### Experiments 1: Calc time spent on substitute text in a large set of str using ```re.sub```"
   ]
  },
  {
   "cell_type": "code",
   "execution_count": 233,
   "metadata": {},
   "outputs": [
    {
     "data": {
      "text/plain": [
       "'bda'"
      ]
     },
     "execution_count": 233,
     "metadata": {},
     "output_type": "execute_result"
    }
   ],
   "source": [
    "# behavior checking\n",
    "sample_string = \"abda\"\n",
    "re.sub(\"a\",  \"\", sample_string, count=1)"
   ]
  },
  {
   "cell_type": "code",
   "execution_count": 227,
   "metadata": {},
   "outputs": [],
   "source": [
    "def using_re_sub_case_1(str_list):\n",
    "    output_list = []\n",
    "    for s in str_list:\n",
    "        output_list.append(re.sub(\"ab\", \"\", s, count=1))\n",
    "    return output_list"
   ]
  },
  {
   "cell_type": "code",
   "execution_count": 228,
   "metadata": {},
   "outputs": [],
   "source": [
    "def using_re_sub_case_2(str_list):\n",
    "    return [re.sub(\"ab\", \"\", s, count=1) for s in str_list]"
   ]
  },
  {
   "cell_type": "code",
   "execution_count": 229,
   "metadata": {},
   "outputs": [],
   "source": [
    "def using_re_sub_case_3(str_list):\n",
    "    return list(map(lambda s:re.sub(\"ab\", \"\", s, count=1), str_list))"
   ]
  },
  {
   "cell_type": "code",
   "execution_count": 243,
   "metadata": {},
   "outputs": [
    {
     "name": "stdout",
     "output_type": "stream",
     "text": [
      "554 ms ± 19.9 ms per loop (mean ± std. dev. of 7 runs, 1 loop each)\n"
     ]
    }
   ],
   "source": [
    "%timeit using_re_sub_case_1(one_million_str_list)"
   ]
  },
  {
   "cell_type": "code",
   "execution_count": 244,
   "metadata": {},
   "outputs": [
    {
     "name": "stdout",
     "output_type": "stream",
     "text": [
      "513 ms ± 5.14 ms per loop (mean ± std. dev. of 7 runs, 1 loop each)\n"
     ]
    }
   ],
   "source": [
    "%timeit using_re_sub_case_2(one_million_str_list)\n"
   ]
  },
  {
   "cell_type": "code",
   "execution_count": 245,
   "metadata": {},
   "outputs": [
    {
     "name": "stdout",
     "output_type": "stream",
     "text": [
      "557 ms ± 10.1 ms per loop (mean ± std. dev. of 7 runs, 1 loop each)\n"
     ]
    }
   ],
   "source": [
    "%timeit using_re_sub_case_3(one_million_str_list)\n"
   ]
  },
  {
   "cell_type": "code",
   "execution_count": 246,
   "metadata": {},
   "outputs": [],
   "source": [
    "assert using_re_sub_case_1(one_million_str) == using_re_sub_case_2(one_million_str) == using_re_sub_case_3(one_million_str)"
   ]
  },
  {
   "cell_type": "code",
   "execution_count": null,
   "metadata": {},
   "outputs": [],
   "source": []
  },
  {
   "cell_type": "markdown",
   "metadata": {},
   "source": [
    "### Experiments 2: Calc time spent on substitute text in a large set of str using ```str.replace```"
   ]
  },
  {
   "cell_type": "code",
   "execution_count": 251,
   "metadata": {},
   "outputs": [
    {
     "data": {
      "text/plain": [
       "'bda'"
      ]
     },
     "execution_count": 251,
     "metadata": {},
     "output_type": "execute_result"
    }
   ],
   "source": [
    "# behavior checking\n",
    "sample_string = \"abda\"\n",
    "sample_string.replace(\"a\", \"\", 1)"
   ]
  },
  {
   "cell_type": "code",
   "execution_count": 235,
   "metadata": {},
   "outputs": [],
   "source": [
    "def using_str_replace_case_1(str_list):\n",
    "    output_list = []\n",
    "    for s in str_list:\n",
    "        output_list.append(s.replace(\"ab\", \"\", 1))\n",
    "    return output_list"
   ]
  },
  {
   "cell_type": "code",
   "execution_count": 236,
   "metadata": {},
   "outputs": [],
   "source": [
    "def using_str_replace_case_2(str_list):\n",
    "    return [s.replace(\"ab\", \"\", 1) for s in str_list]"
   ]
  },
  {
   "cell_type": "code",
   "execution_count": 237,
   "metadata": {},
   "outputs": [
    {
     "name": "stdout",
     "output_type": "stream",
     "text": [
      "149 ms ± 2 ms per loop (mean ± std. dev. of 7 runs, 10 loops each)\n"
     ]
    }
   ],
   "source": [
    "%timeit using_str_replace_case_1(one_million_str_list)"
   ]
  },
  {
   "cell_type": "code",
   "execution_count": 238,
   "metadata": {},
   "outputs": [
    {
     "name": "stdout",
     "output_type": "stream",
     "text": [
      "119 ms ± 1.37 ms per loop (mean ± std. dev. of 7 runs, 10 loops each)\n"
     ]
    }
   ],
   "source": [
    "%timeit using_str_replace_case_2(one_million_str_list)"
   ]
  },
  {
   "cell_type": "code",
   "execution_count": 247,
   "metadata": {},
   "outputs": [],
   "source": [
    "assert using_str_replace_case_1(one_million_str) == using_str_replace_case_2(one_million_str)"
   ]
  },
  {
   "cell_type": "code",
   "execution_count": null,
   "metadata": {},
   "outputs": [],
   "source": []
  },
  {
   "cell_type": "markdown",
   "metadata": {},
   "source": [
    "### Experiments 3: Calc time spent on substitute text in a large set of str using ```compile and sub``` (COMPILE EVERYTIME)"
   ]
  },
  {
   "cell_type": "code",
   "execution_count": 254,
   "metadata": {},
   "outputs": [
    {
     "data": {
      "text/plain": [
       "'bda'"
      ]
     },
     "execution_count": 254,
     "metadata": {},
     "output_type": "execute_result"
    }
   ],
   "source": [
    "# behavior checking\n",
    "sample_string = \"abda\"\n",
    "pattern = re.compile(r\"a\")\n",
    "pattern.sub(\"\", sample_string, count=1)"
   ]
  },
  {
   "cell_type": "code",
   "execution_count": 261,
   "metadata": {},
   "outputs": [],
   "source": [
    "def using_re_compile_and_sub_case_1(str_list):\n",
    "    output_list = []\n",
    "    pattern = re.compile(r\"ab\")\n",
    "    for s in str_list:\n",
    "        output_list.append(pattern.sub(\"\", s, count=1))\n",
    "    return output_list"
   ]
  },
  {
   "cell_type": "code",
   "execution_count": 267,
   "metadata": {},
   "outputs": [
    {
     "name": "stdout",
     "output_type": "stream",
     "text": [
      "309 ms ± 4.02 ms per loop (mean ± std. dev. of 7 runs, 1 loop each)\n"
     ]
    }
   ],
   "source": [
    "%timeit using_re_compile_and_sub_case_1(one_million_str)"
   ]
  },
  {
   "cell_type": "code",
   "execution_count": null,
   "metadata": {},
   "outputs": [],
   "source": []
  },
  {
   "cell_type": "code",
   "execution_count": null,
   "metadata": {},
   "outputs": [],
   "source": []
  },
  {
   "cell_type": "code",
   "execution_count": null,
   "metadata": {},
   "outputs": [],
   "source": []
  },
  {
   "cell_type": "code",
   "execution_count": null,
   "metadata": {},
   "outputs": [],
   "source": []
  },
  {
   "cell_type": "markdown",
   "metadata": {},
   "source": [
    "### Experiments 3: Calc time spent on substitute text in a large set of str using ```compile and sub``` (COMPILE EVERYTIME)"
   ]
  },
  {
   "cell_type": "code",
   "execution_count": 254,
   "metadata": {},
   "outputs": [
    {
     "data": {
      "text/plain": [
       "'bda'"
      ]
     },
     "execution_count": 254,
     "metadata": {},
     "output_type": "execute_result"
    }
   ],
   "source": [
    "# behavior checking\n",
    "sample_string = \"abda\"\n",
    "pattern = re.compile(r\"a\")\n",
    "pattern.sub(\"\", sample_string, count=1)"
   ]
  },
  {
   "cell_type": "code",
   "execution_count": 261,
   "metadata": {},
   "outputs": [],
   "source": [
    "def using_re_compile_and_sub_case_1(str_list):\n",
    "    output_list = []\n",
    "    pattern = re.compile(r\"ab\")\n",
    "    for s in str_list:\n",
    "        output_list.append(pattern.sub(\"\", s, count=1))\n",
    "    return output_list"
   ]
  },
  {
   "cell_type": "code",
   "execution_count": 267,
   "metadata": {},
   "outputs": [
    {
     "name": "stdout",
     "output_type": "stream",
     "text": [
      "309 ms ± 4.02 ms per loop (mean ± std. dev. of 7 runs, 1 loop each)\n"
     ]
    }
   ],
   "source": [
    "%timeit using_re_compile_and_sub_case_1(one_million_str)"
   ]
  },
  {
   "cell_type": "code",
   "execution_count": null,
   "metadata": {},
   "outputs": [],
   "source": []
  },
  {
   "cell_type": "code",
   "execution_count": null,
   "metadata": {},
   "outputs": [],
   "source": []
  },
  {
   "cell_type": "markdown",
   "metadata": {},
   "source": [
    "### Experiments 4: Calc time spent on substitute text in a large set of str using ```compile and sub``` (COMPILE ONCE)"
   ]
  },
  {
   "cell_type": "code",
   "execution_count": 272,
   "metadata": {},
   "outputs": [],
   "source": [
    "pattern = re.compile(r\"ab\")\n",
    "def using_re_compile_and_sub_case_2(str_list):\n",
    "    output_list = []\n",
    "    for s in str_list:\n",
    "        output_list.append(pattern.sub(\"\", s, count=1))\n",
    "    return output_list"
   ]
  },
  {
   "cell_type": "code",
   "execution_count": 273,
   "metadata": {},
   "outputs": [
    {
     "name": "stdout",
     "output_type": "stream",
     "text": [
      "315 ms ± 2.51 ms per loop (mean ± std. dev. of 7 runs, 1 loop each)\n"
     ]
    }
   ],
   "source": [
    "%timeit using_re_compile_and_sub_case_2(one_million_str)"
   ]
  },
  {
   "cell_type": "code",
   "execution_count": null,
   "metadata": {},
   "outputs": [],
   "source": []
  },
  {
   "cell_type": "code",
   "execution_count": null,
   "metadata": {},
   "outputs": [],
   "source": []
  },
  {
   "cell_type": "markdown",
   "metadata": {},
   "source": [
    "reading more:\n",
    "- https://stackoverflow.com/questions/3411771/best-way-to-replace-multiple-characters-in-a-string"
   ]
  }
 ],
 "metadata": {
  "kernelspec": {
   "display_name": "Python 3",
   "language": "python",
   "name": "python3"
  },
  "language_info": {
   "codemirror_mode": {
    "name": "ipython",
    "version": 3
   },
   "file_extension": ".py",
   "mimetype": "text/x-python",
   "name": "python",
   "nbconvert_exporter": "python",
   "pygments_lexer": "ipython3",
   "version": "3.6.10"
  }
 },
 "nbformat": 4,
 "nbformat_minor": 4
}
